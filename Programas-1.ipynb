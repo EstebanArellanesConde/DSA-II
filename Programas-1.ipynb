{
  "cells": [
    {
      "cell_type": "markdown",
      "metadata": {
        "id": "view-in-github",
        "colab_type": "text"
      },
      "source": [
        "<a href=\"https://colab.research.google.com/github/EstebanArellanesConde/DSA-II/blob/main/Programas-1.ipynb\" target=\"_parent\"><img src=\"https://colab.research.google.com/assets/colab-badge.svg\" alt=\"Open In Colab\"/></a>"
      ]
    },
    {
      "cell_type": "markdown",
      "source": [],
      "metadata": {
        "id": "nCRC_fLzHdz6"
      }
    },
    {
      "cell_type": "code",
      "source": [
        "class Vertice:\n",
        "    def _init_ (self, n):\n",
        "        self.nombre=n\n",
        "        self.vecinos= list ()\n",
        "    def agregarVecino(self, v):\n",
        "        if v not in self.vecinos:\n",
        "            self.vecinos.append(v)\n",
        "            self.vecinos.sort()\n",
        "           \n",
        "class Grafo:\n",
        "    vertices={}\n",
        "    def agregarVertice(self,vertice):\n",
        "        if isinstance(vertice, Vertice) and vertice.nombre not in self.vertices:\n",
        "            self.vertices[vertice.nombre]=vertice\n",
        "            return True\n",
        "        else:\n",
        "            return False\n",
        "           \n",
        "    def agregarArista(self, u, v):\n",
        "        if u in self.vertices and v in self.vertices:\n",
        "            for key, value in self.vertices.items():\n",
        "                if key==u:\n",
        "                    value.agregarVecino(v)\n",
        "                if key==v:\n",
        "                    value.agregarVecino(u)\n",
        "            return True\n",
        "        else:\n",
        "            return False\n",
        "           \n",
        "\n",
        "    def imprimeGrafo(self):\n",
        "        for key in sorted(list(self.vertices.keys())):\n",
        "            print(\"Vertice \"+key+\" Sus vecinos son \"+str(self.vertices[key].vecinos))\n",
        "           \n",
        "class Controladora:\n",
        "    def main(self):\n",
        "        valido=False\n",
        "        while(valido==False):\n",
        "            fila=int(input(\"Ingrese filas de la matriz: \"))\n",
        "            columna=int(input(\"Ingresa columnas de la matriz: \"))\n",
        "            if (fila==columna):\n",
        "               valido=True\n",
        "            else:\n",
        "               print(\"la matriz ingresada no es cuadrada\")\n",
        "        matrizAd = [[0] * columna for i in range(fila)]\n",
        "        for i in range(fila):\n",
        "          for j in range(columna):\n",
        "              print(matrizAd[i][j], end = ' ')\n",
        "              #print(\"0 significa no conexión y 1 significa conexión\")\n",
        "              valido=False\n",
        "              while(valido==False):\n",
        "                print(\"Posición [\",i,\"][\",j,\"]\")\n",
        "                matrizAd[i][j]=int(input(\"Ingrese el valor: \"))\n",
        "                if(matrizAd[i][j]==0 or matrizAd[i][j]==1):\n",
        "                    valido=True\n",
        "                else:\n",
        "                    print(\"ingrese un valor entre 0 y 1\")\n",
        "          print('')\n",
        "\n",
        "        #Imprime la matriz\n",
        "        for i in range(fila):\n",
        "          if(i==0):\n",
        "            numbersMat[1:2, 1:3]\n",
        "            for j in range(columna):\n",
        "              print(matrizAd[i][j], end = ' ')\n",
        "            print('')\n",
        "\n",
        "        g=Grafo()\n",
        "        a=Vertice('A')\n",
        "        g.agregarVertice(a)\n",
        "        for i in range (ord('A'),ord('K')):\n",
        "            g.agregarVertice(Vertice(chr(i)))\n",
        "        edges=['AB','AE','BF','CG','DE','DH','EH','FG','FI','FJ','GJ']\n",
        "        for edge in edges:\n",
        "            g.agregarArista(edge[:1],edge[1:])\n",
        "        g.imprimeGrafo()\n",
        "obj=Controladora()\n",
        "obj.main()"
      ],
      "metadata": {
        "colab": {
          "base_uri": "https://localhost:8080/",
          "height": 345
        },
        "id": "lcbe-NUFHdLL",
        "outputId": "b8d87fe9-9355-452f-d3ec-0276aad3f5bf"
      },
      "execution_count": 1,
      "outputs": [
        {
          "output_type": "error",
          "ename": "KeyboardInterrupt",
          "evalue": "ignored",
          "traceback": [
            "\u001b[0;31m---------------------------------------------------------------------------\u001b[0m",
            "\u001b[0;31mKeyboardInterrupt\u001b[0m                         Traceback (most recent call last)",
            "\u001b[0;32m<ipython-input-1-16d037e2c96e>\u001b[0m in \u001b[0;36m<cell line: 78>\u001b[0;34m()\u001b[0m\n\u001b[1;32m     76\u001b[0m         \u001b[0mg\u001b[0m\u001b[0;34m.\u001b[0m\u001b[0mimprimeGrafo\u001b[0m\u001b[0;34m(\u001b[0m\u001b[0;34m)\u001b[0m\u001b[0;34m\u001b[0m\u001b[0;34m\u001b[0m\u001b[0m\n\u001b[1;32m     77\u001b[0m \u001b[0mobj\u001b[0m\u001b[0;34m=\u001b[0m\u001b[0mControladora\u001b[0m\u001b[0;34m(\u001b[0m\u001b[0;34m)\u001b[0m\u001b[0;34m\u001b[0m\u001b[0;34m\u001b[0m\u001b[0m\n\u001b[0;32m---> 78\u001b[0;31m \u001b[0mobj\u001b[0m\u001b[0;34m.\u001b[0m\u001b[0mmain\u001b[0m\u001b[0;34m(\u001b[0m\u001b[0;34m)\u001b[0m\u001b[0;34m\u001b[0m\u001b[0;34m\u001b[0m\u001b[0m\n\u001b[0m",
            "\u001b[0;32m<ipython-input-1-16d037e2c96e>\u001b[0m in \u001b[0;36mmain\u001b[0;34m(self)\u001b[0m\n\u001b[1;32m     37\u001b[0m         \u001b[0mvalido\u001b[0m\u001b[0;34m=\u001b[0m\u001b[0;32mFalse\u001b[0m\u001b[0;34m\u001b[0m\u001b[0;34m\u001b[0m\u001b[0m\n\u001b[1;32m     38\u001b[0m         \u001b[0;32mwhile\u001b[0m\u001b[0;34m(\u001b[0m\u001b[0mvalido\u001b[0m\u001b[0;34m==\u001b[0m\u001b[0;32mFalse\u001b[0m\u001b[0;34m)\u001b[0m\u001b[0;34m:\u001b[0m\u001b[0;34m\u001b[0m\u001b[0;34m\u001b[0m\u001b[0m\n\u001b[0;32m---> 39\u001b[0;31m             \u001b[0mfila\u001b[0m\u001b[0;34m=\u001b[0m\u001b[0mint\u001b[0m\u001b[0;34m(\u001b[0m\u001b[0minput\u001b[0m\u001b[0;34m(\u001b[0m\u001b[0;34m\"Ingrese filas de la matriz: \"\u001b[0m\u001b[0;34m)\u001b[0m\u001b[0;34m)\u001b[0m\u001b[0;34m\u001b[0m\u001b[0;34m\u001b[0m\u001b[0m\n\u001b[0m\u001b[1;32m     40\u001b[0m             \u001b[0mcolumna\u001b[0m\u001b[0;34m=\u001b[0m\u001b[0mint\u001b[0m\u001b[0;34m(\u001b[0m\u001b[0minput\u001b[0m\u001b[0;34m(\u001b[0m\u001b[0;34m\"Ingresa columnas de la matriz: \"\u001b[0m\u001b[0;34m)\u001b[0m\u001b[0;34m)\u001b[0m\u001b[0;34m\u001b[0m\u001b[0;34m\u001b[0m\u001b[0m\n\u001b[1;32m     41\u001b[0m             \u001b[0;32mif\u001b[0m \u001b[0;34m(\u001b[0m\u001b[0mfila\u001b[0m\u001b[0;34m==\u001b[0m\u001b[0mcolumna\u001b[0m\u001b[0;34m)\u001b[0m\u001b[0;34m:\u001b[0m\u001b[0;34m\u001b[0m\u001b[0;34m\u001b[0m\u001b[0m\n",
            "\u001b[0;32m/usr/local/lib/python3.10/dist-packages/ipykernel/kernelbase.py\u001b[0m in \u001b[0;36mraw_input\u001b[0;34m(self, prompt)\u001b[0m\n\u001b[1;32m    849\u001b[0m                 \u001b[0;34m\"raw_input was called, but this frontend does not support input requests.\"\u001b[0m\u001b[0;34m\u001b[0m\u001b[0;34m\u001b[0m\u001b[0m\n\u001b[1;32m    850\u001b[0m             )\n\u001b[0;32m--> 851\u001b[0;31m         return self._input_request(str(prompt),\n\u001b[0m\u001b[1;32m    852\u001b[0m             \u001b[0mself\u001b[0m\u001b[0;34m.\u001b[0m\u001b[0m_parent_ident\u001b[0m\u001b[0;34m,\u001b[0m\u001b[0;34m\u001b[0m\u001b[0;34m\u001b[0m\u001b[0m\n\u001b[1;32m    853\u001b[0m             \u001b[0mself\u001b[0m\u001b[0;34m.\u001b[0m\u001b[0m_parent_header\u001b[0m\u001b[0;34m,\u001b[0m\u001b[0;34m\u001b[0m\u001b[0;34m\u001b[0m\u001b[0m\n",
            "\u001b[0;32m/usr/local/lib/python3.10/dist-packages/ipykernel/kernelbase.py\u001b[0m in \u001b[0;36m_input_request\u001b[0;34m(self, prompt, ident, parent, password)\u001b[0m\n\u001b[1;32m    893\u001b[0m             \u001b[0;32mexcept\u001b[0m \u001b[0mKeyboardInterrupt\u001b[0m\u001b[0;34m:\u001b[0m\u001b[0;34m\u001b[0m\u001b[0;34m\u001b[0m\u001b[0m\n\u001b[1;32m    894\u001b[0m                 \u001b[0;31m# re-raise KeyboardInterrupt, to truncate traceback\u001b[0m\u001b[0;34m\u001b[0m\u001b[0;34m\u001b[0m\u001b[0m\n\u001b[0;32m--> 895\u001b[0;31m                 \u001b[0;32mraise\u001b[0m \u001b[0mKeyboardInterrupt\u001b[0m\u001b[0;34m(\u001b[0m\u001b[0;34m\"Interrupted by user\"\u001b[0m\u001b[0;34m)\u001b[0m \u001b[0;32mfrom\u001b[0m \u001b[0;32mNone\u001b[0m\u001b[0;34m\u001b[0m\u001b[0;34m\u001b[0m\u001b[0m\n\u001b[0m\u001b[1;32m    896\u001b[0m             \u001b[0;32mexcept\u001b[0m \u001b[0mException\u001b[0m \u001b[0;32mas\u001b[0m \u001b[0me\u001b[0m\u001b[0;34m:\u001b[0m\u001b[0;34m\u001b[0m\u001b[0;34m\u001b[0m\u001b[0m\n\u001b[1;32m    897\u001b[0m                 \u001b[0mself\u001b[0m\u001b[0;34m.\u001b[0m\u001b[0mlog\u001b[0m\u001b[0;34m.\u001b[0m\u001b[0mwarning\u001b[0m\u001b[0;34m(\u001b[0m\u001b[0;34m\"Invalid Message:\"\u001b[0m\u001b[0;34m,\u001b[0m \u001b[0mexc_info\u001b[0m\u001b[0;34m=\u001b[0m\u001b[0;32mTrue\u001b[0m\u001b[0;34m)\u001b[0m\u001b[0;34m\u001b[0m\u001b[0;34m\u001b[0m\u001b[0m\n",
            "\u001b[0;31mKeyboardInterrupt\u001b[0m: Interrupted by user"
          ]
        }
      ]
    }
  ],
  "metadata": {
    "colab": {
      "provenance": [],
      "include_colab_link": true
    },
    "kernelspec": {
      "display_name": "Python 3",
      "name": "python3"
    },
    "language_info": {
      "name": "python"
    }
  },
  "nbformat": 4,
  "nbformat_minor": 0
}